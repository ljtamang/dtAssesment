{
 "cells": [
  {
   "cell_type": "code",
   "execution_count": 6,
   "metadata": {},
   "outputs": [],
   "source": [
    "import gensim\n",
    "import xml.etree.ElementTree as etree \n",
    "from random import shuffle\n",
    "import multiprocessing\n",
    "import numpy as np\n",
    "from math import*\n",
    "import csv"
   ]
  },
  {
   "cell_type": "code",
   "execution_count": 7,
   "metadata": {},
   "outputs": [],
   "source": [
    "def get_annotation(instance):\n",
    "    \"\"\"Get the annotation.\n",
    "    Given annotation in the form: <Annotation Label=\"correct(1)|correct_but_incomplete(0)|contradictory(0)|incorrect(0)\">\n",
    "    It returns the one of corresonding label which has 1 ie. correct in the above given annotation\n",
    "    \"\"\"\n",
    "    annotation_label = instance[4].attrib['Label']\n",
    "    annoted_position = [int(s) for s in annotation_label if s.isdigit()].index(1)\n",
    "    if annoted_position is 0:\n",
    "        return \"correct\"\n",
    "    elif annoted_position is 1:\n",
    "        return \"correct_but_incomplete\"\n",
    "    elif annoted_position is 2:\n",
    "        return \"contradictory\"\n",
    "    elif annoted_position is 3:\n",
    "        return \"incorrect\"\n",
    "    \n",
    "def get_refrence_answer(instance):\n",
    "    \"\"\"Parse the refrence answer.\n",
    "    Returns the list of refrence asnwers\n",
    "    \"\"\"\n",
    "    ref_answers = instance[5].text\n",
    "    ref_answers = ref_answers.splitlines()\n",
    "    answers = [answer.split(\":\", 1)[1].strip() for answer in ref_answers[1:]]\n",
    "    return answers\n",
    "class Instance(object):\n",
    "    def __init__(self, instance):\n",
    "        self.id = instance.attrib['ID']\n",
    "        self.ProblemDescription = instance[1].text\n",
    "        self.Question = instance[2].text\n",
    "        self.Answer = instance[3].text\n",
    "        self.Annotation = get_annotation(instance)\n",
    "        self.ReferenceAnswers = get_refrence_answer(instance) "
   ]
  },
  {
   "cell_type": "code",
   "execution_count": 8,
   "metadata": {},
   "outputs": [],
   "source": [
    "#read DT-Gradev1 corpus\n",
    "def read_dtGrade_corpus(file_name):\n",
    "    \"\"\"Read the dtGrade  corpus \n",
    "    Returns list of object of Instance type\n",
    "    \"\"\"\n",
    "    tree = etree.parse(file_name) # load entire document as an object\n",
    "    root = tree.getroot() # get refrence to the root element i.e. instances\n",
    "    instances = root.findall('{http://www.w3.org/2005/Atom}Instance')\n",
    "    for instance in instances:\n",
    "        yield Instance(instance)   "
   ]
  },
  {
   "cell_type": "code",
   "execution_count": 9,
   "metadata": {},
   "outputs": [],
   "source": [
    "# load dataset\n",
    "file_name =\"DT-Gradev1.0_data/DT-Grade_v1.0_dataset.xml\"\n",
    "corpus = list(read_dtGrade_corpus(file_name)) #returns list of object of Instance type and shuffle them"
   ]
  },
  {
   "cell_type": "code",
   "execution_count": 10,
   "metadata": {},
   "outputs": [],
   "source": [
    "# load back the model \n",
    "model_DM = gensim.models.doc2vec.Doc2Vec.load('models/model_DM.doc2vec')\n",
    "# model_DBOW = gensim.models.doc2vec.Doc2Vec.load('models/model_DBOW.doc2vec')"
   ]
  },
  {
   "cell_type": "code",
   "execution_count": 59,
   "metadata": {},
   "outputs": [],
   "source": [
    "# create file with feature for answer, refrence answer and answer annotation\n",
    "with open('output/output_features.csv', 'w') as csvfile:\n",
    "    spamwriter = csv.writer(csvfile)\n",
    "\n",
    "    for instance in corpus:\n",
    "        # infer vector for student answer\n",
    "        vec_DM_ans = model_DM.infer_vector(gensim.utils.simple_preprocess(instance.Answer))\n",
    "\n",
    "        #infer vector for refrence answer\n",
    "        vec_DM_refAns = []\n",
    "        for refAns in instance.ReferenceAnswers:\n",
    "            vec_refAns = model_DM.infer_vector(gensim.utils.simple_preprocess(refAns))\n",
    "            vec_DM_refAns.append(vec_refAns)   \n",
    "        vec_DM_refAns_mean = np.mean(np.array(vec_DM_refAns), axis=0) # mean of all refrence answer's vector\n",
    "\n",
    "        # form row to print\n",
    "        row = vec_DM_ans.tolist()+vec_DM_refAns_mean.tolist()+[instance.Annotation]\n",
    "        spamwriter.writerow(row)\n",
    "        "
   ]
  }
 ],
 "metadata": {
  "kernelspec": {
   "display_name": "Python 3",
   "language": "python",
   "name": "python3"
  },
  "language_info": {
   "codemirror_mode": {
    "name": "ipython",
    "version": 3
   },
   "file_extension": ".py",
   "mimetype": "text/x-python",
   "name": "python",
   "nbconvert_exporter": "python",
   "pygments_lexer": "ipython3",
   "version": "3.6.5"
  }
 },
 "nbformat": 4,
 "nbformat_minor": 2
}
