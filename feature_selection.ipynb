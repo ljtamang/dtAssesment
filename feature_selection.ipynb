{
 "cells": [
  {
   "cell_type": "code",
   "execution_count": 6,
   "metadata": {},
   "outputs": [],
   "source": [
    "import pandas as pd\n",
    "import numpy as np\n",
    "from sklearn.preprocessing import StandardScaler\n",
    "from sklearn.decomposition import PCA"
   ]
  },
  {
   "cell_type": "code",
   "execution_count": 7,
   "metadata": {},
   "outputs": [],
   "source": [
    "\n",
    "# load dataset into Pandas DataFrame\n",
    "data_path = 'output/output_features.csv' # define path of data\n",
    "dataFrame = pd.read_csv(data_path, header=None)\n",
    "\n",
    "# Define features and target\n",
    "header = list(dataFrame.columns.values)\n",
    "features = header[:len(header)-1]\n",
    "target = header[len(header)-1]\n",
    "\n",
    "# Standardize the features\n",
    "x = dataFrame.loc[:, features].values # Separate out the feature\n",
    "y = dataFrame.loc[:,[target]] # Separate out the target\n",
    "x_standarized = StandardScaler().fit_transform(x)\n",
    "\n",
    "# PCA projection to reduce dimension\n",
    "pca = PCA(.98) # choose the minimum number of principal components such that 95% of the variance is retained\n",
    "principal_components = pca.fit_transform(x_standarized)\n",
    "principal_df = pd.DataFrame(data = principal_components) # convert np.ndarray to dataframe\n",
    "final_df = pd.concat([principal_df, dataFrame[[target]]], axis = 1)\n",
    "\n",
    "# save final reduced dataframe to csv\n",
    "output_path = 'output/pca_features.csv' # define path of data\n",
    "final_df.to_csv(output_path, header=False, index=False)\n"
   ]
  },
  {
   "cell_type": "code",
   "execution_count": 50,
   "metadata": {},
   "outputs": [],
   "source": [
    "# load the data after converting class lablel in pca_features.csv to number(nominal) using excel\n",
    "data_path = 'output/pca_features.csv' # define path of data\n",
    "df = pd.read_csv(data_path, header=None)\n"
   ]
  },
  {
   "cell_type": "code",
   "execution_count": 51,
   "metadata": {},
   "outputs": [],
   "source": [
    "from imblearn.over_sampling import RandomOverSampler\n",
    "\n",
    "header = list(df.columns.values)\n",
    "features = header[:len(header)-1]\n",
    "target = header[len(header)-1]\n",
    "\n",
    "# upsample using Naive random over-sampling\n",
    "# detail : http://contrib.scikit-learn.org/imbalanced-learn/stable/over_sampling.html\n",
    "x = df.loc[:, features].values # Separate out the feature\n",
    "y = df.loc[:,[target]] # Separate out the target\n",
    "ros = RandomOverSampler()\n",
    "X_resampled, y_resampled = ros.fit_sample(x, y.values.ravel())\n",
    "X_resampled = pd.DataFrame(X_resampled)\n",
    "y_resampled = pd.DataFrame(y_resampled)\n",
    "final_df = pd.concat([X_resampled, y_resampled], axis = 1)                    \n",
    "\n",
    "# save to csv file\n",
    "output_path = 'output/pca_features_upsampled.csv' # define path of data\n",
    "final_df.to_csv(output_path, header=False, index=False)\n"
   ]
  }
 ],
 "metadata": {
  "kernelspec": {
   "display_name": "Python 3",
   "language": "python",
   "name": "python3"
  },
  "language_info": {
   "codemirror_mode": {
    "name": "ipython",
    "version": 3
   },
   "file_extension": ".py",
   "mimetype": "text/x-python",
   "name": "python",
   "nbconvert_exporter": "python",
   "pygments_lexer": "ipython3",
   "version": "3.6.5"
  }
 },
 "nbformat": 4,
 "nbformat_minor": 2
}
