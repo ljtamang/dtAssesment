{
 "cells": [
  {
   "cell_type": "code",
   "execution_count": 520,
   "metadata": {},
   "outputs": [],
   "source": [
    "import gensim\n",
    "import xml.etree.ElementTree as etree \n",
    "from random import shuffle\n",
    "import multiprocessing"
   ]
  },
  {
   "cell_type": "code",
   "execution_count": 521,
   "metadata": {},
   "outputs": [],
   "source": [
    "def get_annotation(instance):\n",
    "    \"\"\"Get the annotation.\n",
    "    Given annotation in the form: <Annotation Label=\"correct(1)|correct_but_incomplete(0)|contradictory(0)|incorrect(0)\">\n",
    "    It returns the one of corresonding label which has 1 ie. correct in the above given annotation\n",
    "    \"\"\"\n",
    "    annotation_label = instance[4].attrib['Label']\n",
    "    annoted_position = [int(s) for s in annotation_label if s.isdigit()].index(1)\n",
    "    if annoted_position is 0:\n",
    "        return \"correct\"\n",
    "    elif annoted_position is 1:\n",
    "        return \"correct_but_incomplete\"\n",
    "    elif annoted_position is 2:\n",
    "        return \"contradictory\"\n",
    "    elif annoted_position is 3:\n",
    "        return \"incorrect\"\n",
    "    \n",
    "def get_refrence_answer(instance):\n",
    "    \"\"\"Parse the refrence answer.\n",
    "    Returns the list of refrence asnwers\n",
    "    \"\"\"\n",
    "    ref_answers = instance[5].text\n",
    "    ref_answers = ref_answers.splitlines()\n",
    "    answers = [answer.split(\":\", 1)[1].strip() for answer in ref_answers[1:]]\n",
    "    return answers\n",
    "    \n",
    "class Instance(object):\n",
    "    def __init__(self, instance):\n",
    "        self.id = instance.attrib['ID']\n",
    "        self.ProblemDescription = instance[1].text\n",
    "        self.Question = instance[2].text\n",
    "        self.Answer = instance[3].text\n",
    "        self.Annotation = get_annotation(instance)\n",
    "        self.ReferenceAnswers = get_refrence_answer(instance) "
   ]
  },
  {
   "cell_type": "code",
   "execution_count": 522,
   "metadata": {},
   "outputs": [],
   "source": [
    "#read DT-Gradev1 corpus\n",
    "def read_dtGrade_corpus(file_name):\n",
    "    \"\"\"Read the dtGrade  corpus \n",
    "    Returns list of object of Instance type\n",
    "    \"\"\"\n",
    "    tree = etree.parse(file_name) # load entire document as an object\n",
    "    root = tree.getroot() # get refrence to the root element i.e. instances\n",
    "    instances = root.findall('{http://www.w3.org/2005/Atom}Instance')\n",
    "    for instance in instances:\n",
    "        yield Instance(instance)              "
   ]
  },
  {
   "cell_type": "code",
   "execution_count": 523,
   "metadata": {},
   "outputs": [],
   "source": [
    "# Get training data for doc2vec model\n",
    "def get_all_paragraphs(instances):\n",
    "    ProblemDescription = []\n",
    "    Question = []\n",
    "    Answer = []\n",
    "    ReferenceAnswers =[]\n",
    "    for instance in instances:\n",
    "        ProblemDescription.append(instance.ProblemDescription)\n",
    "        Question.append(instance.Question)\n",
    "        Answer.append(instance.Answer)\n",
    "        ReferenceAnswers.extend(instance.ReferenceAnswers)\n",
    "    all_paragraphs = ProblemDescription + Question + Answer + ReferenceAnswers\n",
    "    return all_paragraphs"
   ]
  },
  {
   "cell_type": "code",
   "execution_count": 524,
   "metadata": {},
   "outputs": [],
   "source": [
    "# prepare paragraph to be ready to feed to genism doc2vec model\n",
    "def get_taggeDocument(paragraphs, tokens_only=False):\n",
    "    for i, paragraph in enumerate(paragraphs):\n",
    "        if tokens_only:\n",
    "            yield gensim.utils.simple_preprocess(paragraph)\n",
    "        else:\n",
    "            yield gensim.models.doc2vec.TaggedDocument(gensim.utils.simple_preprocess(paragraph), [i])"
   ]
  },
  {
   "cell_type": "code",
   "execution_count": 525,
   "metadata": {},
   "outputs": [],
   "source": [
    "# load dataset\n",
    "file_name =\"DT-Gradev1.0_data/DT-Grade_v1.0_dataset.xml\"\n",
    "corpus = list(read_dtGrade_corpus(file_name)) #returns list of object of Instance type and shuffle them\n",
    "\n",
    "# form training data\n",
    "all_paragraphs = get_all_paragraphs(corpus)\n",
    "shuffle(all_paragraphs)\n",
    "training_data = list(get_taggeDocument(all_paragraphs))\n",
    "\n",
    "#Divide the data set into training, validation and test dataset\n",
    "#train_corpus = corpus[:630]\n",
    "#validation_corpus = corpus[630:765]\n",
    "#test_corpus = corpus[765:]"
   ]
  },
  {
   "cell_type": "code",
   "execution_count": 529,
   "metadata": {},
   "outputs": [],
   "source": [
    "# Build models and save them\n",
    "cores = multiprocessing.cpu_count() # count number of processor \n",
    "model_DM = gensim.models.doc2vec.Doc2Vec(dbow_words=1, vector_size=300, window=8, min_count=1, sample=1e-5, negative=5, workers=cores,  dm=1, dm_concat=1, epochs=1000, alpha=0.025, min_alpha=0.0001)\n",
    "model_DBOW = gensim.models.doc2vec.Doc2Vec(dbow_words=1, vector_size=300, window=5, min_count=1, sample=1e-5, negative=5, workers=cores, dm=0, dm_concat=1, epochs=400, alpha=0.025, min_alpha=0.0001)\n",
    "model_DM.build_vocab(training_data) # build vocab\n",
    "model_DBOW.build_vocab(training_data) #build vocab\n",
    "%time model_DM.train(training_data, total_examples=model.corpus_count, epochs=model.epochs)\n",
    "model_DM.save('models/model_DM.doc2vec') #save model\n",
    "%time model_DBOW.train(training_data, total_examples=model.corpus_count, epochs=model.epochs)\n",
    "model_DBOW.save('models/model_DBOW.doc2vec') #save model\n"
   ]
  }
 ],
 "metadata": {
  "kernelspec": {
   "display_name": "Python 3",
   "language": "python",
   "name": "python3"
  },
  "language_info": {
   "codemirror_mode": {
    "name": "ipython",
    "version": 3
   },
   "file_extension": ".py",
   "mimetype": "text/x-python",
   "name": "python",
   "nbconvert_exporter": "python",
   "pygments_lexer": "ipython3",
   "version": "3.6.5"
  }
 },
 "nbformat": 4,
 "nbformat_minor": 2
}
