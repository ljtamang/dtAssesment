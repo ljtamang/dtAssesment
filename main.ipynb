{
 "cells": [
  {
   "cell_type": "code",
   "execution_count": 196,
   "metadata": {},
   "outputs": [],
   "source": [
    "import gensim\n",
    "import xml.etree.ElementTree as etree \n",
    "from random import shuffle\n",
    "import multiprocessing\n",
    "import numpy as np\n",
    "from math import*\n",
    "import csv"
   ]
  },
  {
   "cell_type": "code",
   "execution_count": 197,
   "metadata": {},
   "outputs": [],
   "source": [
    "def square_rooted(x):\n",
    "    \"\"\"Compute ssquare root\n",
    "    \"\"\"\n",
    "    return round(sqrt(sum([a*a for a in x])),5)\n",
    "    \n",
    "def cosine_similarity(x,y):\n",
    "    \"\"\"Compute the cosine similarity score betwee two vectors\n",
    "    Returns simialrity score\n",
    "    \"\"\"\n",
    "    numerator = sum(a*b for a,b in zip(x,y))\n",
    "    denominator = square_rooted(x)*square_rooted(y)\n",
    "    return round(numerator/float(denominator),5)"
   ]
  },
  {
   "cell_type": "code",
   "execution_count": 198,
   "metadata": {},
   "outputs": [],
   "source": [
    "def get_annotation(instance):\n",
    "    \"\"\"Get the annotation.\n",
    "    Given annotation in the form: <Annotation Label=\"correct(1)|correct_but_incomplete(0)|contradictory(0)|incorrect(0)\">\n",
    "    It returns the one of corresonding label which has 1 ie. correct in the above given annotation\n",
    "    \"\"\"\n",
    "    annotation_label = instance[4].attrib['Label']\n",
    "    annoted_position = [int(s) for s in annotation_label if s.isdigit()].index(1)\n",
    "    if annoted_position is 0:\n",
    "        return \"correct\"\n",
    "    elif annoted_position is 1:\n",
    "        return \"correct_but_incomplete\"\n",
    "    elif annoted_position is 2:\n",
    "        return \"contradictory\"\n",
    "    elif annoted_position is 3:\n",
    "        return \"incorrect\"\n",
    "    \n",
    "def get_refrence_answer(instance):\n",
    "    \"\"\"Parse the refrence answer.\n",
    "    Returns the list of refrence asnwers\n",
    "    \"\"\"\n",
    "    ref_answers = instance[5].text\n",
    "    ref_answers = ref_answers.splitlines()\n",
    "    answers = [answer.split(\":\", 1)[1].strip() for answer in ref_answers[1:]]\n",
    "    return answers\n",
    "    \n",
    "class Instance(object):\n",
    "    def __init__(self, instance):\n",
    "        self.id = instance.attrib['ID']\n",
    "        self.ProblemDescription = instance[1].text\n",
    "        self.Question = instance[2].text\n",
    "        self.Answer = instance[3].text\n",
    "        self.Annotation = get_annotation(instance)\n",
    "        self.ReferenceAnswers = get_refrence_answer(instance) "
   ]
  },
  {
   "cell_type": "code",
   "execution_count": 199,
   "metadata": {},
   "outputs": [],
   "source": [
    "#read DT-Gradev1 corpus\n",
    "def read_dtGrade_corpus(file_name):\n",
    "    \"\"\"Read the dtGrade  corpus \n",
    "    Returns list of object of Instance type\n",
    "    \"\"\"\n",
    "    tree = etree.parse(file_name) # load entire document as an object\n",
    "    root = tree.getroot() # get refrence to the root element i.e. instances\n",
    "    instances = root.findall('{http://www.w3.org/2005/Atom}Instance')\n",
    "    for instance in instances:\n",
    "        yield Instance(instance)              "
   ]
  },
  {
   "cell_type": "code",
   "execution_count": 200,
   "metadata": {},
   "outputs": [],
   "source": [
    "# Get training data for doc2vec model\n",
    "def get_all_paragraphs(instances):\n",
    "    \"\"\"Extract all sentences from instance and form single list of all contnet\n",
    "    \"\"\"\n",
    "    ProblemDescription = []\n",
    "    Question = []\n",
    "    Answer = []\n",
    "    ReferenceAnswers =[]\n",
    "    for instance in instances:\n",
    "        ProblemDescription.append(instance.ProblemDescription)\n",
    "        Question.append(instance.Question)\n",
    "        Answer.append(instance.Answer)\n",
    "        ReferenceAnswers.extend(instance.ReferenceAnswers)\n",
    "    all_paragraphs = ProblemDescription + Question + Answer + ReferenceAnswers\n",
    "    return all_paragraphs"
   ]
  },
  {
   "cell_type": "code",
   "execution_count": 201,
   "metadata": {},
   "outputs": [],
   "source": [
    "# prepare paragraph to be ready to feed to genism doc2vec model\n",
    "def get_taggeDocument(paragraphs, tokens_only=False):\n",
    "    \"\"\"Converts the list of paragraphs to object of TaggedDocument to be ready to feed to doc2vec model\n",
    "    \"\"\"\n",
    "    for i, paragraph in enumerate(paragraphs):\n",
    "        if tokens_only:\n",
    "            yield gensim.utils.simple_preprocess(paragraph)\n",
    "        else:\n",
    "            yield gensim.models.doc2vec.TaggedDocument(gensim.utils.simple_preprocess(paragraph), [i])"
   ]
  },
  {
   "cell_type": "code",
   "execution_count": 202,
   "metadata": {},
   "outputs": [],
   "source": [
    "# load dataset\n",
    "file_name =\"DT-Gradev1.0_data/DT-Grade_v1.0_dataset.xml\"\n",
    "corpus = list(read_dtGrade_corpus(file_name)) #returns list of object of Instance type and shuffle them\n",
    "\n",
    "# form training data\n",
    "all_paragraphs = get_all_paragraphs(corpus)\n",
    "shuffle(all_paragraphs)\n",
    "training_data = list(get_taggeDocument(all_paragraphs))"
   ]
  },
  {
   "cell_type": "code",
   "execution_count": 537,
   "metadata": {},
   "outputs": [
    {
     "name": "stdout",
     "output_type": "stream",
     "text": [
      "CPU times: user 6min, sys: 57.3 s, total: 6min 58s\n",
      "Wall time: 4min 11s\n",
      "CPU times: user 1min 52s, sys: 53.3 s, total: 2min 45s\n",
      "Wall time: 2min 5s\n",
      "finished building model\n"
     ]
    }
   ],
   "source": [
    "# Build models and save them\n",
    "cores = multiprocessing.cpu_count() # count number of processor \n",
    "model_DM = gensim.models.doc2vec.Doc2Vec(dbow_words=1, vector_size=300, window=8, min_count=1, sample=1e-5, negative=5, workers=cores,  dm=1, dm_concat=1, epochs=1000, alpha=0.025, min_alpha=0.0001)\n",
    "model_DBOW = gensim.models.doc2vec.Doc2Vec(dbow_words=1, vector_size=300, window=5, min_count=1, sample=1e-5, negative=5, workers=cores, dm=0, dm_concat=1, epochs=400, alpha=0.025, min_alpha=0.0001)\n",
    "model_DM.build_vocab(training_data) # build vocab\n",
    "model_DBOW.build_vocab(training_data) #build vocab\n",
    "%time model_DM.train(training_data, total_examples=model_DM.corpus_count, epochs=model_DM.epochs)\n",
    "model_DM.save('models/model_DM.doc2vec') #save model\n",
    "%time model_DBOW.train(training_data, total_examples=model_DBOW.corpus_count, epochs=model_DBOW.epochs)\n",
    "model_DBOW.save('models/model_DBOW.doc2vec') #save model\n",
    "print(\"finished building model\")\n"
   ]
  },
  {
   "cell_type": "code",
   "execution_count": 203,
   "metadata": {},
   "outputs": [],
   "source": [
    "# load back the model \n",
    "model_DM = gensim.models.doc2vec.Doc2Vec.load('models/model_DM.doc2vec')\n",
    "model_DBOW = gensim.models.doc2vec.Doc2Vec.load('models/model_DBOW.doc2vec')"
   ]
  },
  {
   "cell_type": "code",
   "execution_count": 204,
   "metadata": {},
   "outputs": [],
   "source": [
    "# cacluate the simialrty score btween answer and refrence asnwer\n",
    "def get_cosim_score(Answer, ReferenceAnswers):\n",
    "    \"\"\"Calcualte simialrity score between answer and refrence answers\n",
    "    \"\"\"\n",
    "    DM_cosSim, DBOW_cosSim, DM_DBOW_cosSim= [],[],[]\n",
    "    # infer answers vector\n",
    "    v1_DM_ans = model_DM.infer_vector(gensim.utils.simple_preprocess(Answer))\n",
    "    v2_DBOW_ans = model_DBOW.infer_vector(gensim.utils.simple_preprocess(Answer))\n",
    "    # produce concatenation vector\n",
    "    v1_v2_ans = np.concatenate([v1_DM_ans, v2_DBOW_ans]) \n",
    "    for refAns in ReferenceAnswers:\n",
    "        refAns = gensim.utils.simple_preprocess(refAns)\n",
    "        # infer refrence answers vector\n",
    "        v1_DM_refAns = model_DM.infer_vector(refAns)\n",
    "        v2_DBOW_refAns = model_DBOW.infer_vector(refAns)\n",
    "        # produce concatenation vector\n",
    "        v1_v2_refAns = np.concatenate([v1_DM_refAns, v2_DBOW_refAns])\n",
    "        # find cosine simialities\n",
    "        DM_cosSim.append(cosine_similarity(v1_DM_ans, v1_DM_refAns))\n",
    "        DBOW_cosSim.append(cosine_similarity(v2_DBOW_ans, v2_DBOW_refAns))\n",
    "        DM_DBOW_cosSim.append(cosine_similarity(v1_v2_ans, v1_v2_refAns))\n",
    "    return DM_cosSim, DBOW_cosSim, DM_DBOW_cosSim"
   ]
  },
  {
   "cell_type": "code",
   "execution_count": 194,
   "metadata": {},
   "outputs": [],
   "source": [
    "# compute simialrity score and write them to file\n",
    "with open('output/scores.csv', \"w\") as csv_file:\n",
    "    fieldnames = ['DM_max_cosSim', 'DM_mean_cosSim', 'DBOW_max_cosSim', 'DBOW_mean_cosSim' ,'DM_DBOW_max_cosSim', 'DM_DBOW_mean_cosSim', 'Annotation']\n",
    "    writer = csv.DictWriter(csv_file, fieldnames=fieldnames)\n",
    "    writer.writeheader()\n",
    "    for instance in corpus:\n",
    "        DM_cosSim, DBOW_cosSim, DM_DBOW_cosSim = get_cosim_score(instance.Answer, instance.ReferenceAnswers)\n",
    "        writer.writerow({'DM_max_cosSim': max(DM_cosSim), 'DM_mean_cosSim': round(np.mean(DM_cosSim),5), 'DBOW_max_cosSim': max(DBOW_cosSim), 'DBOW_mean_cosSim': round(np.mean(DBOW_cosSim),5), 'DM_DBOW_max_cosSim': max(DM_DBOW_cosSim), 'DM_DBOW_mean_cosSim': round(np.mean(DM_DBOW_cosSim),5), 'Annotation':instance.Annotation})\n"
   ]
  }
 ],
 "metadata": {
  "kernelspec": {
   "display_name": "Python 3",
   "language": "python",
   "name": "python3"
  },
  "language_info": {
   "codemirror_mode": {
    "name": "ipython",
    "version": 3
   },
   "file_extension": ".py",
   "mimetype": "text/x-python",
   "name": "python",
   "nbconvert_exporter": "python",
   "pygments_lexer": "ipython3",
   "version": "3.6.5"
  }
 },
 "nbformat": 4,
 "nbformat_minor": 2
}
