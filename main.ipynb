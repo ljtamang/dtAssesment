{
 "cells": [
  {
   "cell_type": "code",
   "execution_count": 413,
   "metadata": {},
   "outputs": [],
   "source": [
    "import xml.etree.ElementTree as etree \n",
    "from random import shuffle"
   ]
  },
  {
   "cell_type": "code",
   "execution_count": 467,
   "metadata": {},
   "outputs": [],
   "source": [
    "def get_annotation(instance):\n",
    "    \"\"\"Get the annotation.\n",
    "    Given annotation in the form: <Annotation Label=\"correct(1)|correct_but_incomplete(0)|contradictory(0)|incorrect(0)\">\n",
    "    It returns the one of corresonding label which has 1 ie. correct in the above given annotation\n",
    "    \"\"\"\n",
    "    annotation_label = instance[4].attrib['Label']\n",
    "    annoted_position = [int(s) for s in annotation_label if s.isdigit()].index(1)\n",
    "    if annoted_position is 0:\n",
    "        return \"correct\"\n",
    "    elif annoted_position is 1:\n",
    "        return \"correct_but_incomplete\"\n",
    "    elif annoted_position is 2:\n",
    "        return \"contradictory\"\n",
    "    elif annoted_position is 3:\n",
    "        return \"incorrect\"\n",
    "    \n",
    "def get_refrence_answer(instance):\n",
    "    \"\"\"Parse the refrence answer.\n",
    "    Returns the list of refrence asnwers\n",
    "    \"\"\"\n",
    "    ref_answers = instance[5].text\n",
    "    ref_answers = ref_answers.splitlines()\n",
    "    answers = [answer.split(\":\", 1)[1].strip() for answer in ref_answers[1:]]\n",
    "    return answers\n",
    "    \n",
    "class Instance(object):\n",
    "    def __init__(self, instance):\n",
    "        self.id = instance.attrib['ID']\n",
    "        self.ProblemDescription = instance[1].text\n",
    "        self.Question = instance[2].text\n",
    "        self.Answer = instance[3].text\n",
    "        self.Annotation = get_annotation(instance)\n",
    "        self.ReferenceAnswers = get_refrence_answer(instance) "
   ]
  },
  {
   "cell_type": "code",
   "execution_count": 473,
   "metadata": {},
   "outputs": [],
   "source": [
    "#read DT-Gradev1 corpus\n",
    "def read_dtGrade_corpus(file_name):\n",
    "    \"\"\"Read the dtGrade  corpus \n",
    "    Returns list of object of Instance type\n",
    "    \"\"\"\n",
    "    tree = etree.parse(file_name) # load entire document as an object\n",
    "    root = tree.getroot() # get refrence to the root element i.e. instances\n",
    "    instances = root.findall('{http://www.w3.org/2005/Atom}Instance')\n",
    "    for instance in instances:\n",
    "        yield Instance(instance)"
   ]
  },
  {
   "cell_type": "code",
   "execution_count": 489,
   "metadata": {},
   "outputs": [
    {
     "name": "stdout",
     "output_type": "stream",
     "text": [
      "---------------\n",
      "413\n",
      "772\n",
      "165\n",
      "---------------\n",
      "519\n",
      "460\n",
      "872\n"
     ]
    }
   ],
   "source": [
    "# load dataset\n",
    "file_name =\"DT-Gradev1.0_data/DT-Grade_v1.0_dataset.xml\"\n",
    "corpus = list(read_dtGrade_corpus(file_name)) #returns list of object of Instance type and shuffle them\n",
    "shuffle(corpus) # shuffle corpus randomly\n",
    "\n",
    "#Divide the data set into training, validation and test dataset\n",
    "train_corpus = corpus[:630]\n",
    "validation_corpus = corpus[630:765]\n",
    "test_corpus = corpus[765:]\n",
    "\n",
    "\n"
   ]
  },
  {
   "cell_type": "code",
   "execution_count": null,
   "metadata": {},
   "outputs": [],
   "source": []
  }
 ],
 "metadata": {
  "kernelspec": {
   "display_name": "Python 3",
   "language": "python",
   "name": "python3"
  },
  "language_info": {
   "codemirror_mode": {
    "name": "ipython",
    "version": 3
   },
   "file_extension": ".py",
   "mimetype": "text/x-python",
   "name": "python",
   "nbconvert_exporter": "python",
   "pygments_lexer": "ipython3",
   "version": "3.6.5"
  }
 },
 "nbformat": 4,
 "nbformat_minor": 2
}
